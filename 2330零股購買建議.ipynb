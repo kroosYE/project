{
  "nbformat": 4,
  "nbformat_minor": 0,
  "metadata": {
    "colab": {
      "provenance": [],
      "authorship_tag": "ABX9TyP+cu9aONw8SiS4NUMq3NkX",
      "include_colab_link": true
    },
    "kernelspec": {
      "name": "python3",
      "display_name": "Python 3"
    },
    "language_info": {
      "name": "python"
    }
  },
  "cells": [
    {
      "cell_type": "markdown",
      "metadata": {
        "id": "view-in-github",
        "colab_type": "text"
      },
      "source": [
        "<a href=\"https://colab.research.google.com/github/kroosYE/project/blob/main/2330%E9%9B%B6%E8%82%A1%E8%B3%BC%E8%B2%B7%E5%BB%BA%E8%AD%B0.ipynb\" target=\"_parent\"><img src=\"https://colab.research.google.com/assets/colab-badge.svg\" alt=\"Open In Colab\"/></a>"
      ]
    },
    {
      "cell_type": "markdown",
      "source": [
        "零股購買需要負擔0.1425%的手續費，未滿20元需則以20元計算，在最低手續費條件下購買幾股才不會吃虧"
      ],
      "metadata": {
        "id": "919zQ3Hxvo2C"
      }
    },
    {
      "cell_type": "code",
      "execution_count": 17,
      "metadata": {
        "colab": {
          "base_uri": "https://localhost:8080/"
        },
        "id": "CUCL2zxxu-kz",
        "outputId": "beb5e95f-14a7-4d98-ba3c-cf8fbeac8676"
      },
      "outputs": [
        {
          "output_type": "stream",
          "name": "stdout",
          "text": [
            "Looking in indexes: https://pypi.org/simple, https://us-python.pkg.dev/colab-wheels/public/simple/\n",
            "Requirement already satisfied: twstock in /usr/local/lib/python3.8/dist-packages (1.3.1)\n",
            "Requirement already satisfied: requests in /usr/local/lib/python3.8/dist-packages (from twstock) (2.25.1)\n",
            "Requirement already satisfied: urllib3<1.27,>=1.21.1 in /usr/local/lib/python3.8/dist-packages (from requests->twstock) (1.24.3)\n",
            "Requirement already satisfied: chardet<5,>=3.0.2 in /usr/local/lib/python3.8/dist-packages (from requests->twstock) (4.0.0)\n",
            "Requirement already satisfied: certifi>=2017.4.17 in /usr/local/lib/python3.8/dist-packages (from requests->twstock) (2022.12.7)\n",
            "Requirement already satisfied: idna<3,>=2.5 in /usr/local/lib/python3.8/dist-packages (from requests->twstock) (2.10)\n"
          ]
        }
      ],
      "source": [
        "pip install twstock #安裝twstock套件"
      ]
    },
    {
      "cell_type": "code",
      "source": [
        "import twstock\n",
        "import math\n",
        "from twstock import Stock"
      ],
      "metadata": {
        "id": "SCrsuGyDwkxa"
      },
      "execution_count": 18,
      "outputs": []
    },
    {
      "cell_type": "code",
      "source": [
        "tw2330 = Stock('2330')\n",
        "tw2330.price"
      ],
      "metadata": {
        "colab": {
          "base_uri": "https://localhost:8080/"
        },
        "id": "IJyeket_6_Vd",
        "outputId": "189a6468-73de-4b0b-fabd-26ba56efef46"
      },
      "execution_count": 19,
      "outputs": [
        {
          "output_type": "execute_result",
          "data": {
            "text/plain": [
              "[491.0,\n",
              " 492.0,\n",
              " 496.0,\n",
              " 498.0,\n",
              " 480.5,\n",
              " 487.0,\n",
              " 490.0,\n",
              " 498.5,\n",
              " 492.5,\n",
              " 489.0,\n",
              " 478.0,\n",
              " 475.0,\n",
              " 471.5,\n",
              " 481.5,\n",
              " 475.0,\n",
              " 471.5,\n",
              " 480.5,\n",
              " 480.5,\n",
              " 471.0,\n",
              " 466.5,\n",
              " 457.5,\n",
              " 459.0,\n",
              " 468.0,\n",
              " 455.0,\n",
              " 456.5,\n",
              " 457.0,\n",
              " 451.0,\n",
              " 446.0,\n",
              " 448.5,\n",
              " 453.0,\n",
              " 449.5]"
            ]
          },
          "metadata": {},
          "execution_count": 19
        }
      ]
    },
    {
      "cell_type": "code",
      "source": [
        "for price in tw2330.price:\n",
        "  shares = math.ceil(20/ (float(price)*0.001425))\n",
        "  print('股價 %5.2f 應該購買至少 %1.0f 股' %((price),shares))"
      ],
      "metadata": {
        "id": "U6RbLmTc8Bx3",
        "colab": {
          "base_uri": "https://localhost:8080/"
        },
        "outputId": "1aa8b25a-b8f6-4858-a21a-7111e68243b5"
      },
      "execution_count": 34,
      "outputs": [
        {
          "output_type": "stream",
          "name": "stdout",
          "text": [
            "股價 491.00 應該購買至少 29 股\n",
            "股價 492.00 應該購買至少 29 股\n",
            "股價 496.00 應該購買至少 29 股\n",
            "股價 498.00 應該購買至少 29 股\n",
            "股價 480.50 應該購買至少 30 股\n",
            "股價 487.00 應該購買至少 29 股\n",
            "股價 490.00 應該購買至少 29 股\n",
            "股價 498.50 應該購買至少 29 股\n",
            "股價 492.50 應該購買至少 29 股\n",
            "股價 489.00 應該購買至少 29 股\n",
            "股價 478.00 應該購買至少 30 股\n",
            "股價 475.00 應該購買至少 30 股\n",
            "股價 471.50 應該購買至少 30 股\n",
            "股價 481.50 應該購買至少 30 股\n",
            "股價 475.00 應該購買至少 30 股\n",
            "股價 471.50 應該購買至少 30 股\n",
            "股價 480.50 應該購買至少 30 股\n",
            "股價 480.50 應該購買至少 30 股\n",
            "股價 471.00 應該購買至少 30 股\n",
            "股價 466.50 應該購買至少 31 股\n",
            "股價 457.50 應該購買至少 31 股\n",
            "股價 459.00 應該購買至少 31 股\n",
            "股價 468.00 應該購買至少 30 股\n",
            "股價 455.00 應該購買至少 31 股\n",
            "股價 456.50 應該購買至少 31 股\n",
            "股價 457.00 應該購買至少 31 股\n",
            "股價 451.00 應該購買至少 32 股\n",
            "股價 446.00 應該購買至少 32 股\n",
            "股價 448.50 應該購買至少 32 股\n",
            "股價 453.00 應該購買至少 31 股\n",
            "股價 449.50 應該購買至少 32 股\n"
          ]
        }
      ]
    }
  ]
}