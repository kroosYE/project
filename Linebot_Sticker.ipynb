{
  "cells": [
    {
      "cell_type": "markdown",
      "metadata": {
        "id": "view-in-github",
        "colab_type": "text"
      },
      "source": [
        "<a href=\"https://colab.research.google.com/github/kroosYE/project/blob/main/Linebot_Sticker.ipynb\" target=\"_parent\"><img src=\"https://colab.research.google.com/assets/colab-badge.svg\" alt=\"Open In Colab\"/></a>"
      ]
    },
    {
      "cell_type": "code",
      "execution_count": null,
      "metadata": {
        "id": "PUdj1gm_suRJ"
      },
      "outputs": [],
      "source": [
        "!pip install line-bot-sdk\n",
        "!pip install flask-ngrok"
      ]
    },
    {
      "cell_type": "code",
      "execution_count": null,
      "metadata": {
        "id": "IGBYrIlgs1gv"
      },
      "outputs": [],
      "source": [
        "from flask import Flask, request\n",
        "from flask_ngrok import run_with_ngrok  #colab專用\n",
        "from linebot import LineBotApi, WebhookHandler\n",
        "from linebot.models import StickerSendMessage #載入 StickerSenfMessage 模組\n",
        "import json"
      ]
    },
    {
      "cell_type": "code",
      "execution_count": null,
      "metadata": {
        "id": "Xy58PIdLEirw"
      },
      "outputs": [],
      "source": [
        "app = Flask(__name__)\n",
        "\n",
        "@app.route('/', methods= ['POST'])\n",
        "def linebot():\n",
        "  body = request.get_data(as_text = True)\n",
        "  json_data = json.loads(body)  #轉成 python 格式\n",
        "  print(json_data)\n",
        "  try:\n",
        "    line_bot_api = LineBotApi('7A3PibTZDmxuvjKLP10FdEyYvlthWHABiy/4crzalC6oZ61IpV+BgF+b7WLABv/3NCv1EQZXrq17uC5lc7P5rn3KTtvNcuAO3CpkRU1I8GwxHmIoXBSvfNRDeYuGLmgcqMOtw93QBWKabOhVoM3UGwdB04t89/1O/w1cDnyilFU=')\n",
        "    handler = WebhookHandler('85233d8e7e4176e352f29b9ff2713870')\n",
        "    signature = request.headers['X-Line-Signature']\n",
        "    handler.handle(body, signature)\n",
        "    tk = json_data['events'][0]['replyToken'] #取得 reply token\n",
        "    stickerId = '10857' \n",
        "    packageId = '789'  \n",
        "    sticker_message = StickerSendMessage(sticker_id= stickerId, package_id= packageId)  #設定回傳的表情貼圖\n",
        "    line_bot_api.reply_message(tk, sticker_message) #回傳訊息\n",
        "  except:\n",
        "    print('error')\n",
        "  return 'OK'\n",
        "\n",
        "if __name__ == '__main__':\n",
        "  run_with_ngrok(app)\n",
        "  app.run()"
      ]
    }
  ],
  "metadata": {
    "colab": {
      "provenance": [],
      "authorship_tag": "ABX9TyPYGhXlZQHmEEKWDwdmy1D1",
      "include_colab_link": true
    },
    "kernelspec": {
      "display_name": "Python 3",
      "name": "python3"
    },
    "language_info": {
      "name": "python"
    }
  },
  "nbformat": 4,
  "nbformat_minor": 0
}