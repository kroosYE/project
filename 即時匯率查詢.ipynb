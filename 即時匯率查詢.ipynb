{
  "nbformat": 4,
  "nbformat_minor": 0,
  "metadata": {
    "colab": {
      "provenance": [],
      "authorship_tag": "ABX9TyO/bB0OD2tmCQ6ycNyDEvvZ",
      "include_colab_link": true
    },
    "kernelspec": {
      "name": "python3",
      "display_name": "Python 3"
    },
    "language_info": {
      "name": "python"
    }
  },
  "cells": [
    {
      "cell_type": "markdown",
      "metadata": {
        "id": "view-in-github",
        "colab_type": "text"
      },
      "source": [
        "<a href=\"https://colab.research.google.com/github/kroosYE/project/blob/main/%E5%8D%B3%E6%99%82%E5%8C%AF%E7%8E%87%E6%9F%A5%E8%A9%A2.ipynb\" target=\"_parent\"><img src=\"https://colab.research.google.com/assets/colab-badge.svg\" alt=\"Open In Colab\"/></a>"
      ]
    },
    {
      "cell_type": "markdown",
      "source": [
        "# 新台幣匯率擷取\n",
        "台灣銀行牌告匯率https://rate.bot.com.tw/xrt?Lang=zh-TW\n"
      ],
      "metadata": {
        "id": "frJg-q7KUhBS"
      }
    },
    {
      "cell_type": "code",
      "execution_count": null,
      "metadata": {
        "colab": {
          "base_uri": "https://localhost:8080/"
        },
        "id": "X5Kh0H2jUbxC",
        "outputId": "8c50253b-bf5a-4f51-f628-cd63e1bc0c82"
      },
      "outputs": [
        {
          "output_type": "stream",
          "name": "stdout",
          "text": [
            "Looking in indexes: https://pypi.org/simple, https://us-python.pkg.dev/colab-wheels/public/simple/\n",
            "Collecting twder\n",
            "  Downloading twder-0.2.2-py3-none-any.whl (4.5 kB)\n",
            "Requirement already satisfied: lxml in /usr/local/lib/python3.8/dist-packages (from twder) (4.9.2)\n",
            "Installing collected packages: twder\n",
            "Successfully installed twder-0.2.2\n"
          ]
        }
      ],
      "source": [
        "!pip install twder #安裝twder"
      ]
    },
    {
      "cell_type": "code",
      "source": [
        "import twder"
      ],
      "metadata": {
        "id": "Y2IyWB6MVmzX"
      },
      "execution_count": null,
      "outputs": []
    },
    {
      "cell_type": "markdown",
      "source": [
        "# 新台幣國際匯率查詢"
      ],
      "metadata": {
        "id": "LXNKokbab5xw"
      }
    },
    {
      "cell_type": "code",
      "source": [
        "from twder.api import currencies\n",
        "import twder\n",
        "# 建立貨幣名稱與貨幣代碼的字典資料\n",
        "currencies = {'美元':'USD','港幣':'HKD','英鎊':'GBP','澳幣':'AUD','加拿大幣':'CAD','加幣':'CAD',\n",
        "        '新加坡幣':'SGD','瑞士法郎':'CHF','日幣':'JPY','南非幣':'ZAR','瑞典幣':'SEK',\n",
        "        '紐幣':'NZD','泰銖':'THB','菲律賓幣':'PHP','印尼幣':'IDR','歐元':'EUR','韓元':'KRW',\\\n",
        "        '越南盾':'VND','越南幣':'VND','馬來幣':'MYR','人民幣':'CNY' }\n",
        "\n",
        "#取得所有貨幣名稱\n",
        "keys = currencies.keys()\n",
        "print(keys)"
      ],
      "metadata": {
        "colab": {
          "base_uri": "https://localhost:8080/"
        },
        "id": "QPpombyTbgON",
        "outputId": "281ea218-4306-4875-efa5-87af5f18bdba"
      },
      "execution_count": null,
      "outputs": [
        {
          "output_type": "stream",
          "name": "stdout",
          "text": [
            "dict_keys(['美元', '港幣', '英鎊', '澳幣', '加拿大幣', '加幣', '新加坡幣', '瑞士法郎', '日幣', '南非幣', '瑞典幣', '紐幣', '泰銖', '菲律賓幣', '印尼幣', '歐元', '韓元', '越南盾', '越南幣', '馬來幣', '人民幣'])\n"
          ]
        }
      ]
    },
    {
      "cell_type": "code",
      "source": [
        "#建立匯率種類串列\n",
        "tlist = ['現今買入', '現金賣出', '即期買入', '即期賣出']\n",
        "#建立下拉式選單 預設值為\"美元\"\n",
        "currency = \"\\u65B0\\u52A0\\u5761\\u5E63\" #@param ['美元', '港幣', '英鎊', '澳幣', '加拿大幣', '加幣', '新加坡幣', '瑞士法郎', '日幣', '南非幣', '瑞典幣', '紐幣', '泰銖', '菲律賓幣', '印尼幣', '歐元', '韓元', '越南盾', '越南幣', '馬來幣', '人民幣', 'X']\n",
        "#初始預設列印資料\n",
        "show = currency + '匯率 : \\n'\n",
        "\n",
        "#如果貨幣名稱正確在keys的清單中:\n",
        "if currency in keys:\n",
        "  for i in range(4):\n",
        "    exchange = twder.now(currencies[currency])[i+1]\n",
        "    show = show +tlist[i] + ':' + str(exchange) + '\\n'\n",
        "  print(show)\n",
        "else:\n",
        "  print('無此貨幣資料!!')\n"
      ],
      "metadata": {
        "colab": {
          "base_uri": "https://localhost:8080/"
        },
        "id": "mJbszRWhdIbs",
        "outputId": "5543f490-f09b-45f3-8897-4bc6ef257057"
      },
      "execution_count": null,
      "outputs": [
        {
          "output_type": "stream",
          "name": "stdout",
          "text": [
            "新加坡幣匯率 : \n",
            "現今買入:22.31\n",
            "現金賣出:23.22\n",
            "即期買入:22.78\n",
            "即期賣出:23\n",
            "\n"
          ]
        }
      ]
    }
  ]
}